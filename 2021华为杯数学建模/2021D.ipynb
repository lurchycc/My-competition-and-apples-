{
 "cells": [
  {
   "cell_type": "code",
   "execution_count": null,
   "metadata": {},
   "outputs": [],
   "source": [
    "import numpy as np\n",
    "import pandas as pd\n",
    "from sklearn.ensemble import RandomForestRegressor as RFC\n",
    "import warnings \n",
    "%matplotlib inline\n",
    "pd.set_option('display.max_columns',None)\n",
    "pd.set_option('display.max_rows',None)\n",
    "from sklearn import preprocessing\n",
    "warnings.filterwarnings('ignore')"
   ]
  },
  {
   "cell_type": "code",
   "execution_count": null,
   "metadata": {},
   "outputs": [],
   "source": [
    "data = pd.read_excel('Molecular_Descriptor.xlsx',engine='openpyxl')"
   ]
  },
  {
   "cell_type": "code",
   "execution_count": null,
   "metadata": {},
   "outputs": [],
   "source": [
    "data.head(5)"
   ]
  },
  {
   "cell_type": "code",
   "execution_count": null,
   "metadata": {},
   "outputs": [],
   "source": [
    "#删除全0列\n",
    "data_delzero = data.loc[:,(data!=0).any(axis=0)]\n",
    "#保存到xlsx中\n",
    "# data_delzero.to_excel('Molecular_Descriptor_delzero.xlsx')"
   ]
  },
  {
   "cell_type": "code",
   "execution_count": null,
   "metadata": {},
   "outputs": [],
   "source": [
    "data_delzero.drop(['SMILES'],axis=1,inplace=True)"
   ]
  },
  {
   "cell_type": "code",
   "execution_count": null,
   "metadata": {},
   "outputs": [],
   "source": [
    "data_delzero.head(5)"
   ]
  },
  {
   "cell_type": "code",
   "execution_count": null,
   "metadata": {},
   "outputs": [],
   "source": [
    "#归一化\n",
    "m_scale = preprocessing.MinMaxScaler()\n",
    "data_delzero_norm = pd.DataFrame(m_scale.fit_transform(data_delzero))"
   ]
  },
  {
   "cell_type": "code",
   "execution_count": null,
   "metadata": {},
   "outputs": [],
   "source": [
    "data_delzero_norm.head(5)"
   ]
  },
  {
   "cell_type": "code",
   "execution_count": null,
   "metadata": {},
   "outputs": [],
   "source": [
    "#写入xlsx文件\n",
    "# data_delzero_norm.to_excel('Molecular_Descriptor_delzero_norm.xlsx')"
   ]
  },
  {
   "cell_type": "code",
   "execution_count": null,
   "metadata": {},
   "outputs": [],
   "source": [
    "#读入标签\n",
    "data_label = pd.read_excel('ER_activity.xlsx',engine ='openpyxl')\n",
    "data_label.drop(columns=['SMILES'],inplace=True)\n",
    "#归一化\n",
    "data_label = pd.DataFrame(m_scale.fit_transform(data_label))"
   ]
  },
  {
   "cell_type": "code",
   "execution_count": null,
   "metadata": {},
   "outputs": [],
   "source": [
    "data_label[1]"
   ]
  },
  {
   "cell_type": "code",
   "execution_count": null,
   "metadata": {},
   "outputs": [],
   "source": [
    "#data_label 分布图\n",
    "# import matplotlib.pyplot as plt\n",
    "# plt.hist(data_label['pIC50'],orientation='vertical',histtype='bar',\n",
    "#          color='blue')\n",
    "# plt.show()"
   ]
  },
  {
   "cell_type": "code",
   "execution_count": null,
   "metadata": {},
   "outputs": [],
   "source": [
    "# plt.hist(data_label['IC50_nM'],orientation='vertical',histtype='bar',\n",
    "#          color='blue')\n",
    "# plt.show()"
   ]
  },
  {
   "cell_type": "code",
   "execution_count": null,
   "metadata": {},
   "outputs": [],
   "source": [
    "#数据描述\n",
    "#未归一化之前\n",
    "data_scribe = data_delzero.describe(include='all')\n",
    "data_scribe.to_excel('Molecular_Descriptor_delzero_describe.xlsx')\n",
    "#归一化之后\n",
    "data_scribe = data_delzero.describe(include='all')\n",
    "data_scribe.to_excel('Molecular_Descriptor_delzero_norm_describe.xlsx')"
   ]
  },
  {
   "cell_type": "code",
   "execution_count": null,
   "metadata": {},
   "outputs": [],
   "source": [
    "#随机森林特征排序\n",
    "rf_model = RFC(n_estimators=1000,max_depth=100,max_features=500)\n",
    "rf_model.fit(data_delzero_norm,data_label[1])"
   ]
  },
  {
   "cell_type": "code",
   "execution_count": null,
   "metadata": {},
   "outputs": [],
   "source": [
    "features = list(data_delzero.columns.values)\n",
    "features_importance = rf_model.feature_importances_\n",
    "features_data_delzero_norm = pd.DataFrame({'Features':features,'Importance':features_importance})\n",
    "features_data_delzero_norm.sort_values('Importance',inplace=True,ascending=False)"
   ]
  },
  {
   "cell_type": "code",
   "execution_count": null,
   "metadata": {},
   "outputs": [],
   "source": [
    "features_data_delzero_norm.to_excel('Feature_importance_RF.xlsx')"
   ]
  },
  {
   "cell_type": "code",
   "execution_count": null,
   "metadata": {},
   "outputs": [],
   "source": [
    "#相关系数特征排序\n",
    "#读取归一化后的带有列名的源数据\n",
    "data_delzero_norm_2 = pd.read_excel('Molecular_Descriptor_delzero_norm_2.xlsx',index_col=0)\n",
    "data_label.columns = ['IC50_nM','pIC50']\n",
    "data_final = pd.concat([data_delzero_norm_2,data_label['pIC50']],axis=1)"
   ]
  },
  {
   "cell_type": "code",
   "execution_count": null,
   "metadata": {},
   "outputs": [],
   "source": [
    "data_final.head(5)"
   ]
  },
  {
   "cell_type": "code",
   "execution_count": null,
   "metadata": {},
   "outputs": [],
   "source": [
    "# data_final.drop(columns=['SMILES'],inplace=True)\n",
    "# data_final.loc[:,~data_final.columns.str.contains(\"^Unnamed\")]\n",
    "correlation = data_final.corr()\n",
    "data_corr = correlation['pIC50'].sort_values(ascending=False)"
   ]
  },
  {
   "cell_type": "code",
   "execution_count": null,
   "metadata": {},
   "outputs": [],
   "source": [
    "data_corr"
   ]
  },
  {
   "cell_type": "code",
   "execution_count": null,
   "metadata": {},
   "outputs": [],
   "source": [
    "data_corr.to_excel('Feature_importance_corr.xlsx')"
   ]
  },
  {
   "cell_type": "code",
   "execution_count": null,
   "metadata": {},
   "outputs": [],
   "source": [
    "features_data_delzero_norm"
   ]
  },
  {
   "cell_type": "code",
   "execution_count": null,
   "metadata": {},
   "outputs": [],
   "source": [
    "MDEC-23\n",
    "MLogP\n",
    "LipoaffinityIndex\n",
    "minsOH\n",
    "nC\n",
    "minsssN\n",
    "CrippenLogP\n",
    "maxHsOH\n",
    "C1SP2\n",
    "minHsOH\n",
    "maxsOH\n",
    "nT6Ring\n",
    "n6Ring\n",
    "BCUTp-1h\n",
    "C2SP2\n",
    "hmin\n",
    "AMR\n",
    "SwHBa\n",
    "maxsssN\n",
    "MDEC-22\n"
   ]
  },
  {
   "cell_type": "code",
   "execution_count": null,
   "metadata": {},
   "outputs": [],
   "source": [
    "#特征热图\n",
    "#\n",
    "data_feature = pd.DataFrame(data_final,columns=['MDEC-23','MLogP','LipoaffinityIndex','minsOH','nC','minsssN','CrippenLogP',\n",
    "                                               'maxHsOH','C1SP2','minHsOH','maxsOH','nT6Ring','n6Ring','BCUTp-1h',\n",
    "                                               'C2SP2','hmin','AMR','SwHBa','maxsssN','MDEC-22'])\n",
    "data_feature.to_excel('Molecular_Descriptor_select_feature.xlsx')\n",
    "correlation_feature_top20 = data_feature.corr()\n",
    "correlation_feature_top20"
   ]
  },
  {
   "cell_type": "code",
   "execution_count": null,
   "metadata": {},
   "outputs": [],
   "source": [
    "#特征选取与训练\n",
    "import seaborn as sns\n",
    "import matplotlib.pyplot as plt\n",
    "f,ax=plt.subplots(figsize=(20,20))\n",
    "plt.title('Top20 Feature Correlation analysis',y=1,size=16)\n",
    "pl = sns.heatmap(correlation_feature_top20,square=True,vmax=0.8)"
   ]
  },
  {
   "cell_type": "code",
   "execution_count": null,
   "metadata": {},
   "outputs": [],
   "source": [
    "s1 = pl.get_figure()\n",
    "s1.savefig('HeatMap.png',dpi=300,bbox_inches='tight')"
   ]
  },
  {
   "cell_type": "code",
   "execution_count": null,
   "metadata": {},
   "outputs": [],
   "source": [
    "#KMO检验\n",
    "import math\n",
    "def kmo(dataset_corr):\n",
    "        corr_inv = np.linalg.inv(dataset_corr)\n",
    "        nrow_inv_corr, ncol_inv_corr = dataset_corr.shape\n",
    "        A = np.ones((nrow_inv_corr, ncol_inv_corr))\n",
    "        for i in range(0, nrow_inv_corr, 1):\n",
    "            for j in range(i, ncol_inv_corr, 1):\n",
    "                A[i, j] = -(corr_inv[i, j]) / (math.sqrt(corr_inv[i, i] * corr_inv[j, j]))\n",
    "                A[j, i] = A[i, j]\n",
    "        dataset_corr = np.asarray(dataset_corr)\n",
    "        kmo_num = np.sum(np.square(dataset_corr)) - np.sum(np.square(np.diagonal(A)))\n",
    "        kmo_denom = kmo_num + np.sum(np.square(A)) - np.sum(np.square(np.diagonal(A)))\n",
    "        kmo_value = kmo_num / kmo_denom\n",
    "        return kmo_value\n",
    "\n",
    "print(\"\\nKMO测度:\", kmo(correlation_feature_top20))"
   ]
  },
  {
   "cell_type": "code",
   "execution_count": null,
   "metadata": {},
   "outputs": [],
   "source": [
    "# #导入test\n",
    "# data_test = pd.read_excel('Molecular_Descriptor.xlsx',sheet_name='test',index_col=0)\n",
    "# data_test.head(5)"
   ]
  },
  {
   "cell_type": "code",
   "execution_count": null,
   "metadata": {},
   "outputs": [],
   "source": [
    "# data_test_feature = pd.DataFrame(data_test,columns=['MDEC-23','MLogP','LipoaffinityIndex','minsOH','nC','minsssN','CrippenLogP',\n",
    "#                                                'maxHsOH','C1SP2','minHsOH','maxsOH','nT6Ring','n6Ring','BCUTp-1h',\n",
    "#                                                'C2SP2','hmin','AMR','SwHBa','maxsssN','MDEC-22'])"
   ]
  },
  {
   "cell_type": "code",
   "execution_count": null,
   "metadata": {},
   "outputs": [],
   "source": [
    "#归一化\n",
    "# data_test_feature_norm = pd.DataFrame(m_scale.fit_transform(data_test_feature))\n",
    "# data_test_feature_norm.head(5)"
   ]
  },
  {
   "cell_type": "code",
   "execution_count": null,
   "metadata": {},
   "outputs": [],
   "source": [
    "# data_test_feature_norm.to_excel('Molecular_Descriptor_test_feature.xlsx')"
   ]
  },
  {
   "cell_type": "code",
   "execution_count": null,
   "metadata": {},
   "outputs": [],
   "source": [
    "data_test_feature_norm = pd.read_excel('Molecular_Descriptor_test_feature.xlsx')"
   ]
  },
  {
   "cell_type": "code",
   "execution_count": null,
   "metadata": {},
   "outputs": [],
   "source": [
    "data_test_feature_fac = pd.DataFrame()\n",
    "data_test_feature_fac['fac1'] = data_test_feature_norm['MLogP']*0.895+\\\n",
    "data_test_feature_norm['MDEC-23']*0.891+\\\n",
    "data_test_feature_norm['LipoaffinityIndex']*0.837+\\\n",
    "data_test_feature_norm['nC']*0.836+\\\n",
    "data_test_feature_norm['nT6Ring']*0.835+\\\n",
    "data_test_feature_norm['n6Ring']*0.824+\\\n",
    "data_test_feature_norm['AMR']*0.8+\\\n",
    "data_test_feature_norm['SwHBa']*0.782+\\\n",
    "data_test_feature_norm['hmin']*(-0.738)+\\\n",
    "data_test_feature_norm['C2SP2']*0.735+\\\n",
    "data_test_feature_norm['CrippenLogP']*0.714+\\\n",
    "data_test_feature_norm['MDEC-22']*0.708+\\\n",
    "data_test_feature_norm['minsssN']*0.701+\\\n",
    "data_test_feature_norm['maxsssN']*0.700+\\\n",
    "data_test_feature_norm['BCUTp-1h']*0.604+\\\n",
    "data_test_feature_norm['maxsOH']*0.391+\\\n",
    "data_test_feature_norm['minsOH']*0.393+\\\n",
    "data_test_feature_norm['C1SP2']*(-0.364)\n",
    "\n",
    "data_test_feature_fac['fac2'] = data_test_feature_norm['AMR']*(-0.346)+\\\n",
    "data_test_feature_norm['maxHsOH']*0.917+\\\n",
    "data_test_feature_norm['minHsOH']*0.916+\\\n",
    "data_test_feature_norm['maxsOH']*0.878+\\\n",
    "data_test_feature_norm['minsOH']*0.877+\\\n",
    "data_test_feature_norm['C1SP2']*(-0.498)\n",
    "\n",
    "data_test_feature_fac['fac3'] = data_test_feature_norm['CrippenLogP']*(-0.453)+\\\n",
    "data_test_feature_norm['minsssN']*0.621+\\\n",
    "data_test_feature_norm['maxsssN']*0.625\n",
    "\n",
    "data_test_feature_fac['fac4'] = data_test_feature_norm['nC']*0.388+\\\n",
    "data_test_feature_norm['AMR']*0.434+\\\n",
    "data_test_feature_norm['C1SP2']*0.654"
   ]
  },
  {
   "cell_type": "code",
   "execution_count": null,
   "metadata": {},
   "outputs": [],
   "source": [
    "data_train_feature_norm = data_feature\n",
    "data_train_feature_fac = pd.DataFrame()\n",
    "data_train_feature_fac['fac1'] = data_train_feature_norm['MLogP']*0.895+\\\n",
    "data_train_feature_norm['MDEC-23']*0.891+\\\n",
    "data_train_feature_norm['LipoaffinityIndex']*0.837+\\\n",
    "data_train_feature_norm['nC']*0.836+\\\n",
    "data_train_feature_norm['nT6Ring']*0.835+\\\n",
    "data_train_feature_norm['n6Ring']*0.824+\\\n",
    "data_train_feature_norm['AMR']*0.8+\\\n",
    "data_train_feature_norm['SwHBa']*0.782+\\\n",
    "data_train_feature_norm['hmin']*(-0.738)+\\\n",
    "data_train_feature_norm['C2SP2']*0.735+\\\n",
    "data_train_feature_norm['CrippenLogP']*0.714+\\\n",
    "data_train_feature_norm['MDEC-22']*0.708+\\\n",
    "data_train_feature_norm['minsssN']*0.701+\\\n",
    "data_train_feature_norm['maxsssN']*0.700+\\\n",
    "data_train_feature_norm['BCUTp-1h']*0.604+\\\n",
    "data_train_feature_norm['maxsOH']*0.391+\\\n",
    "data_train_feature_norm['minsOH']*0.393+\\\n",
    "data_train_feature_norm['C1SP2']*(-0.364)\n",
    "\n",
    "data_train_feature_fac['fac2'] = data_train_feature_norm['AMR']*(-0.346)+\\\n",
    "data_train_feature_norm['maxHsOH']*0.917+\\\n",
    "data_train_feature_norm['minHsOH']*0.916+\\\n",
    "data_train_feature_norm['maxsOH']*0.878+\\\n",
    "data_train_feature_norm['minsOH']*0.877+\\\n",
    "data_train_feature_norm['C1SP2']*(-0.498)\n",
    "\n",
    "data_train_feature_fac['fac3'] = data_train_feature_norm['CrippenLogP']*(-0.453)+\\\n",
    "data_train_feature_norm['minsssN']*0.621+\\\n",
    "data_train_feature_norm['maxsssN']*0.625\n",
    "\n",
    "data_train_feature_fac['fac4'] = data_train_feature_norm['nC']*0.388+\\\n",
    "data_train_feature_norm['AMR']*0.434+\\\n",
    "data_train_feature_norm['C1SP2']*0.654"
   ]
  },
  {
   "cell_type": "code",
   "execution_count": null,
   "metadata": {},
   "outputs": [],
   "source": [
    "data_labels = pd.read_excel('ER_activity.xlsx',engine ='openpyxl')\n",
    "data_labels.drop(columns=['SMILES'],inplace=True)\n",
    "#归一化\n",
    "data_labels = pd.DataFrame(m_scale.fit_transform(data_labels))"
   ]
  },
  {
   "cell_type": "code",
   "execution_count": null,
   "metadata": {},
   "outputs": [],
   "source": [
    "data_labels.head(5)"
   ]
  },
  {
   "cell_type": "code",
   "execution_count": null,
   "metadata": {},
   "outputs": [],
   "source": [
    "#构建回归模型\n",
    "# from sklearn import train_test_split\n",
    "from sklearn.model_selection import train_test_split,KFold,cross_val_score\n",
    "from sklearn.pipeline import make_pipeline\n",
    "from sklearn.preprocessing import RobustScaler\n",
    "from sklearn.neural_network import MLPRegressor\n",
    "# RMSE评分\n",
    "def rmsle_cv(model):\n",
    "    kf = KFold(n_splits=5,shuffle=True,random_state=42).get_n_splits(X_train.values)\n",
    "    mse = -cross_val_score(model,X_train.values,Y_train,scoring='neg_mean_squared_error',cv=kf)\n",
    "    return (mse)\n",
    "from sklearn.metrics import mean_absolute_error\n",
    "#train val 划分\n",
    "# data_train_MLP = data_train_feature_fac.head()\n",
    "data_labels.columns = ['IC50_nM','pIC50']\n",
    "X_train, X_test, Y_train, Y_test = train_test_split(data_train_feature_fac, data_labels['pIC50'], test_size=0.3, shuffle=True)\n",
    "# mgr = make_pipeline(RobustScaler(),MLPRegressor(solver='adam', hidden_layer_sizes=(1024,512),activation='relu' ,max_iter=5000))\n",
    "# score = rmsle_cv(mgr)"
   ]
  },
  {
   "cell_type": "code",
   "execution_count": null,
   "metadata": {},
   "outputs": [],
   "source": [
    "print('\\nMLP score:{:.4f}({:.4f})'.format(score.mean(),score.std()))"
   ]
  },
  {
   "cell_type": "code",
   "execution_count": null,
   "metadata": {},
   "outputs": [],
   "source": [
    "from sklearn.ensemble import RandomForestRegressor\n",
    "from sklearn import metrics\n",
    "rfr = RandomForestRegressor(n_estimators=1000,max_depth=100)\n",
    "rfr.fit(X_train,Y_train)\n",
    "y_pre = rfr.predict(X_test)\n",
    "# rfr.score(X_test,Y_test,scoring='neg_mean_squared_error')\n",
    "# mse = metrics.mean_squared_error(X_test,Y_test)"
   ]
  },
  {
   "cell_type": "code",
   "execution_count": null,
   "metadata": {},
   "outputs": [],
   "source": [
    "mse = metrics.mean_squared_error(y_pre,Y_test)"
   ]
  },
  {
   "cell_type": "code",
   "execution_count": null,
   "metadata": {},
   "outputs": [],
   "source": [
    "np.sqrt(mse)"
   ]
  },
  {
   "cell_type": "code",
   "execution_count": null,
   "metadata": {},
   "outputs": [],
   "source": [
    "print('\\nRFR score:{:.4f}({:.4f})'.format(score_rfr.mean(),score_rfr.std()))"
   ]
  },
  {
   "cell_type": "code",
   "execution_count": null,
   "metadata": {},
   "outputs": [],
   "source": [
    "#构建模型\n",
    "from sklearn.svm import SVR\n",
    "from sklearn.neural_network import MLPRegressor\n",
    "regr = MLPRegressor(solver='adam', hidden_layer_sizes=(1024,512), max_iter=5000).fit(X_train,Y_train)\n",
    "regr.score(X_test,Y_test)"
   ]
  },
  {
   "cell_type": "code",
   "execution_count": null,
   "metadata": {},
   "outputs": [],
   "source": [
    "l_svr = SVR(kernel='linear')\n",
    "l_svr.fit(X_train,Y_train)\n",
    "l_svr.score(X_test,Y_test)"
   ]
  },
  {
   "cell_type": "code",
   "execution_count": null,
   "metadata": {},
   "outputs": [],
   "source": [
    "l_svr = SVR(kernel='poly')\n",
    "l_svr.fit(X_train,Y_train)\n",
    "l_svr.score(X_test,Y_test)"
   ]
  },
  {
   "cell_type": "code",
   "execution_count": null,
   "metadata": {},
   "outputs": [],
   "source": [
    "l_svr = SVR(kernel='rbf')\n",
    "l_svr.fit(X_train,Y_train)\n",
    "l_svr.score(X_test,Y_test)"
   ]
  },
  {
   "cell_type": "code",
   "execution_count": null,
   "metadata": {},
   "outputs": [],
   "source": [
    "from sklearn.neighbors import KNeighborsRegressor\n",
    "knn = KNeighborsRegressor(weights=\"uniform\")\n",
    "knn.fit(X_train,Y_train)\n",
    "knn.score(X_test,Y_test)"
   ]
  },
  {
   "cell_type": "code",
   "execution_count": null,
   "metadata": {},
   "outputs": [],
   "source": [
    "from sklearn.tree import DecisionTreeRegressor\n",
    "dt = DecisionTreeRegressor()\n",
    "dt.fit(X_train,Y_train)\n",
    "dt.score(X_test,Y_test)"
   ]
  },
  {
   "cell_type": "code",
   "execution_count": null,
   "metadata": {},
   "outputs": [],
   "source": [
    "from sklearn.ensemble import RandomForestRegressor\n",
    "rfr = RandomForestRegressor()\n",
    "rfr.fit(X_train,Y_train)\n",
    "rfr.score(X_test,Y_test)"
   ]
  },
  {
   "cell_type": "code",
   "execution_count": null,
   "metadata": {},
   "outputs": [],
   "source": [
    "from sklearn.ensemble import ExtraTreesRegressor\n",
    "etr = ExtraTreesRegressor()\n",
    "etr.fit(X_train,Y_train)\n",
    "etr.score(X_test,Y_test)"
   ]
  },
  {
   "cell_type": "code",
   "execution_count": null,
   "metadata": {},
   "outputs": [],
   "source": [
    "from sklearn.ensemble import GradientBoostingRegressor\n",
    "gbr = GradientBoostingRegressor()\n",
    "gbr.fit(X_train,Y_train)\n",
    "gbr.score(X_test,Y_test)"
   ]
  },
  {
   "cell_type": "code",
   "execution_count": null,
   "metadata": {},
   "outputs": [],
   "source": [
    "# #导入test\n",
    "data_trains = pd.read_excel('Molecular_Descriptor.xlsx',sheet_name='training')\n",
    "data_trains_feature = pd.DataFrame(data_trains,columns=['MDEC-23','MLogP','LipoaffinityIndex','minsOH','nC','minsssN','CrippenLogP',\n",
    "                                               'maxHsOH','C1SP2','minHsOH','maxsOH','nT6Ring','n6Ring','BCUTp-1h',\n",
    "                                               'C2SP2','hmin','AMR','SwHBa','maxsssN','MDEC-22'])\n",
    "data_trains_feature_norm = pd.DataFrame(m_scale.fit_transform(data_trains_feature))\n",
    "data_trains_feature_norm.head(5)"
   ]
  },
  {
   "cell_type": "code",
   "execution_count": null,
   "metadata": {},
   "outputs": [],
   "source": [
    "regr_final = MLPRegressor(solver='adam', hidden_layer_sizes=(1024,512),activation='relu' ,max_iter=5000).fit(data_trains_feature_norm,data_labels['IC50_nM'])\n",
    "# regr_final.score(data_train_feature_fac,data_label['pIC50'])"
   ]
  },
  {
   "cell_type": "code",
   "execution_count": null,
   "metadata": {},
   "outputs": [],
   "source": [
    "data_test_feature_norm.head(5)"
   ]
  },
  {
   "cell_type": "code",
   "execution_count": null,
   "metadata": {},
   "outputs": [],
   "source": [
    "# data_test_feature_norm.loc[:,~data_test_feature_norm.columns.str.contains('^Unnamed:0')]\n",
    "y_pre_rgr_final = regr_final.predict(data_test_feature_norm)"
   ]
  },
  {
   "cell_type": "code",
   "execution_count": null,
   "metadata": {},
   "outputs": [],
   "source": [
    "y_pre_rgr_final = pd.DataFrame(y_pre_rgr_final)\n",
    "y_pre_rgr_final.columns = ['IC50_nM_test_rgr']\n",
    "y_pre_rgr_final.to_excel('test_result_rgr_IC50.xlsx')"
   ]
  },
  {
   "cell_type": "code",
   "execution_count": null,
   "metadata": {},
   "outputs": [],
   "source": [
    "rfr_final = RandomForestRegressor()\n",
    "rfr_final.fit(data_train_feature_fac,data_labels['IC50_nM'])\n",
    "y_pre_rfr_final = pd.DataFrame(rfr_final.predict(data_test_feature_fac))\n",
    "y_pre_rfr_final.columns = ['IC50_nM']\n",
    "y_pre_rfr_final.to_excel('IC50_result_rf.xlsx')"
   ]
  },
  {
   "cell_type": "code",
   "execution_count": null,
   "metadata": {},
   "outputs": [],
   "source": [
    "y_pre = regr.predict(data_test_feature_fac)"
   ]
  },
  {
   "cell_type": "code",
   "execution_count": null,
   "metadata": {},
   "outputs": [],
   "source": [
    "y_pre = pd.DataFrame(y_pre)"
   ]
  },
  {
   "cell_type": "code",
   "execution_count": null,
   "metadata": {},
   "outputs": [],
   "source": [
    "y_pre.columns = ['pIC50_test']"
   ]
  },
  {
   "cell_type": "code",
   "execution_count": null,
   "metadata": {},
   "outputs": [],
   "source": [
    "y_pre.to_excel('test_result.xlsx')"
   ]
  },
  {
   "cell_type": "code",
   "execution_count": null,
   "metadata": {},
   "outputs": [],
   "source": [
    "y_pre_rfr= pd.DataFrame(rfr.predict(data_test_feature_fac))\n",
    "y_pre_rfr.columns = ['pIC50_test_rf']\n",
    "y_pre_rfr.to_excel('test_result_rf.xlsx')"
   ]
  },
  {
   "cell_type": "code",
   "execution_count": null,
   "metadata": {},
   "outputs": [],
   "source": [
    "#转换成IC50\n"
   ]
  }
 ],
 "metadata": {
  "kernelspec": {
   "display_name": "Python 3",
   "language": "python",
   "name": "python3"
  },
  "language_info": {
   "codemirror_mode": {
    "name": "ipython",
    "version": 3
   },
   "file_extension": ".py",
   "mimetype": "text/x-python",
   "name": "python",
   "nbconvert_exporter": "python",
   "pygments_lexer": "ipython3",
   "version": "3.8.3"
  }
 },
 "nbformat": 4,
 "nbformat_minor": 4
}
