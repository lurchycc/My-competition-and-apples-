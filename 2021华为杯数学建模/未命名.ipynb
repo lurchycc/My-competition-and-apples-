{
 "cells": [
  {
   "cell_type": "code",
   "execution_count": 3,
   "metadata": {},
   "outputs": [],
   "source": [
    "# from pyswarm import pso\n",
    "import pandas as pd\n",
    "import warnings \n",
    "pd.set_option('display.max_columns',None)\n",
    "pd.set_option('display.max_rows',None)\n",
    "from sklearn import preprocessing\n",
    "warnings.filterwarnings('ignore')\n",
    "from sklearn.ensemble import RandomForestRegressor\n",
    "import random\n",
    "import numpy as np\n",
    "import matplotlib.pyplot as plt\n",
    "# from sko.PSO import PSO\n",
    "from xgboost import XGBClassifier"
   ]
  },
  {
   "cell_type": "code",
   "execution_count": 5,
   "metadata": {},
   "outputs": [],
   "source": [
    "data_trains = pd.read_excel('Molecular_Descriptor.xlsx',sheet_name='training')\n",
    "data_trains_feature = pd.DataFrame(data_trains,columns=['MDEC-23','MLogP','LipoaffinityIndex','minsOH','nC','minsssN','CrippenLogP',\n",
    "                                               'maxHsOH','C1SP2','minHsOH','maxsOH','nT6Ring','n6Ring','BCUTp-1h',\n",
    "                                               'C2SP2','hmin','AMR','SwHBa','maxsssN','MDEC-22'])\n",
    "data_trains_feature.to_excel('data_select_pso.xlsx')"
   ]
  },
  {
   "cell_type": "code",
   "execution_count": null,
   "metadata": {},
   "outputs": [],
   "source": [
    "data_f = pd.read_excel('Molecular_Descriptor_select_feature.xlsx',index_col=0,engine='openpyxl')\n",
    "data_label_cls = pd.read_excel('ADMET_final_label.xlsx',index_col=0,engine='openpyxl')\n",
    "data_label_reg = pd.read_excel('ER_activity.xlsx',index_col=0,engine='openpyxl')\n",
    "#根据(1973,20)数据训练出一个回归器，再使用粒子群算法优化该回归器\n",
    "rfr = RandomForestRegressor(n_estimators=1000,max_depth=100)\n",
    "rfr.fit(data_f,data_label_reg['pIC50'])\n",
    "print('随机森林回归训练完成')\n",
    "xgb = XGBClassifier(n_estimators=100,gamma=0.1,max_depth=4,min_child_weight=3)\n",
    "xgb.fit(data_f,data_label_cls['Fina_label'])\n",
    "print('xgboost分类训练完成')\n",
    "#根据（1973，20）数据训练出一个二分类器，作为约束条件\n",
    "\n",
    "\n",
    "\n",
    "def fitness(ind_var):\n",
    "    x1,x2,x3,x4,x5,x6,x7,x8,x9,x10,x11,x12,x13,x14,x15,x16,x17,x18,x19,x20 = ind_var\n",
    "    # x1,x2,x3,x4,x5,x6,x7,x8,x9,x10,x11,x12,x13,x14,x15,x16,x17,x18,x19,x20 = ind_var[0],ind_var[1],ind_var[2],ind_var[3],\n",
    "    # ind_var[4],ind_var[5],ind_var[6],ind_var[7],ind_var[8],ind_var[9],ind_var[10],ind_var[11],ind_var[12],ind_var[13],\n",
    "    # ind_var[14],ind_var[15],ind_var[16],ind_var[17],ind_var[18],ind_var[19]\n",
    "    data_pre = np.array([x1,x2,x3,x4,x5,x6,x7,x8,x9,x10,x11,x12,x13,x14,x15,x16,x17,x18,x19,x20]).reshape(1,-1)\n",
    "    y = rfr.predict(data_pre)\n",
    "    return -float(y)#添加负号最大化目标函数\n",
    "# list(data_f.min())\n",
    "#     up = list(data_f.max())\n",
    "cond = (\n",
    "    lambda x:xgb.predict(x)\n",
    ")\n",
    "print('开始执行PSO算法')\n",
    "pso = PSO(func=fitness,dim=20,pop=60, max_iter=1, lb=list(data_f.min()), ub=list(data_f.max()), w=0.8, c1=0.5, c2=0.5,constraint_eq=cond)\n",
    "pso.record_mode=True\n",
    "pso.run()\n",
    "print('best_x is ', pso.gbest_x, 'best_y is', pso.gbest_y)\n",
    "print(pso.record_values)"
   ]
  },
  {
   "cell_type": "code",
   "execution_count": null,
   "metadata": {},
   "outputs": [],
   "source": []
  }
 ],
 "metadata": {
  "kernelspec": {
   "display_name": "Python 3",
   "language": "python",
   "name": "python3"
  },
  "language_info": {
   "codemirror_mode": {
    "name": "ipython",
    "version": 3
   },
   "file_extension": ".py",
   "mimetype": "text/x-python",
   "name": "python",
   "nbconvert_exporter": "python",
   "pygments_lexer": "ipython3",
   "version": "3.8.3"
  }
 },
 "nbformat": 4,
 "nbformat_minor": 4
}
