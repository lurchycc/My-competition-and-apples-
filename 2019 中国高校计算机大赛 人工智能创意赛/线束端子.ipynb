{
 "cells": [
  {
   "cell_type": "code",
   "execution_count": 1,
   "metadata": {},
   "outputs": [],
   "source": [
    "#导入相关库\n",
    "try:\n",
    "    import xml.etree.cElementTree as ET  #解析xml的c语言版的模块\n",
    "except ImportError:\n",
    "    import xml.etree.ElementTree as ET\n",
    "import cv2\n",
    "import numpy as np\n",
    "import math\n",
    "from scipy.spatial import Voronoi\n",
    "from scipy.spatial import Delaunay\n",
    "from scipy.spatial import voronoi_plot_2d\n",
    "import matplotlib.pyplot as plt"
   ]
  },
  {
   "cell_type": "code",
   "execution_count": 2,
   "metadata": {},
   "outputs": [],
   "source": [
    "#解析图片，获取图片标注位置\n",
    "def GetAnnotBoxLoc(AnotPath):#AnotPath VOC标注文件路径\n",
    "    tree = ET.ElementTree(file=AnotPath)  #打开文件，解析成一棵树型结构\n",
    "    root = tree.getroot()#获取树型结构的根\n",
    "    ObjectSet=root.findall('object')#找到文件中所有含有object关键字的地方，这些地方含有标注目标\n",
    "    ObjBndBoxSet={} #以目标类别为关键字，目标框为值组成的字典结构\n",
    "    for Object in ObjectSet:\n",
    "        ObjName=Object.find('name').text\n",
    "        BndBox=Object.find('bndbox')\n",
    "        x1 = int(BndBox.find('xmin').text)#-1 #-1是因为程序是按0作为起始位置的\n",
    "        y1 = int(BndBox.find('ymin').text)#-1\n",
    "        x2 = int(BndBox.find('xmax').text)#-1\n",
    "        y2 = int(BndBox.find('ymax').text)#-1\n",
    "        BndBoxLoc=[x1,y1,x2,y2]\n",
    "        if ObjName in ObjBndBoxSet:\n",
    "            ObjBndBoxSet[ObjName].append(BndBoxLoc)#如果字典结构中含有这个类别了，那么这个目标框要追加到其值的末尾\n",
    "        else:\n",
    "            ObjBndBoxSet[ObjName]=[BndBoxLoc]#如果字典结构中没有这个类别，那么这个目标框就直接赋值给其值吧\n",
    "    return ObjBndBoxSet\n",
    "crossing = GetAnnotBoxLoc('C:/Users/lurchy/Desktop/EasyDL/8230-4502-0.5.xml')"
   ]
  },
  {
   "cell_type": "code",
   "execution_count": 3,
   "metadata": {},
   "outputs": [],
   "source": [
    "#循环计算各标注位置的垂直梯度，将超过一定阈值的标注位置输出成对\n",
    "\n",
    "img = cv2.imread('C:/Users/lurchy/Desktop/EasyDL/8230-4502-0.5.jpg')\n",
    "cross = crossing['crossing']\n",
    "#读取图片\n",
    "\n",
    "spot_add = []\n",
    "qian = []\n",
    "m=0\n",
    "for i in cross:\n",
    "    qian.append(int((i[m]+i[m+2])/2))\n",
    "    qian.append(int((i[m+1]+i[m+3])/2))\n",
    "    spot_add.append(qian)\n",
    "    qian = []\n",
    "#计算像素点距离\n",
    "\n",
    "def cv_imshow(img,name):\n",
    "    cv2.imshow(name,img)\n",
    "    cv2.waitKey()\n",
    "    cv2.destroyAllWindows()\n",
    "#图片显示函数\n",
    "grad_ = []\n",
    "q=0\n",
    "w=0\n",
    "for i in range(len(spot_add)):\n",
    "    for s in range(len(spot_add)):\n",
    "        if((i+s)>len(spot_add)-1):\n",
    "            continue\n",
    "        crop_img = img[spot_add[i][1]:spot_add[i+s][1],spot_add[i][0]:spot_add[i+s][0]]\n",
    "        if(crop_img.size>0):\n",
    "#             cv_imshow(crop_img,'a')\n",
    "            sobely = cv2.Sobel(crop_img,cv2.CV_64F,0,1,ksize=3)\n",
    "            sobely = cv2.convertScaleAbs(sobely)\n",
    "            for e in sobely:\n",
    "                for j in e:\n",
    "                    for k in j:\n",
    "                        if k!=0:\n",
    "                            w+=1\n",
    "                            q+=k\n",
    "            grad = q/w#\n",
    "            grad_.append(grad)\n",
    "# grad_.sort()\n",
    "# #             cv_imshow(sobely,'a')\n",
    "#             #设置梯度阈值\n",
    "#     #输出符合阈值的坐标对\n",
    "# #求标注区域对之间的梯度，并设置阈值，输出符合要求的坐标对\n",
    "\n",
    "# pass\n",
    "#数闭环个数（小闭环）\n",
    "    "
   ]
  },
  {
   "cell_type": "code",
   "execution_count": 4,
   "metadata": {},
   "outputs": [
    {
     "name": "stdout",
     "output_type": "stream",
     "text": [
      "41.80993804824114\n"
     ]
    }
   ],
   "source": [
    "s=0\n",
    "for i in grad_:\n",
    "    s+=i\n",
    "print(s/(len(grad_)))"
   ]
  },
  {
   "cell_type": "code",
   "execution_count": null,
   "metadata": {},
   "outputs": [],
   "source": [
    "# grad_=grad_.sort()\n",
    "# s=0\n",
    "# for i in grad_:\n",
    "#     if(i==grad_[0]or i==grad_[len(grad_)-1]):\n",
    "#         continue\n",
    "#     else:\n",
    "#         s+=i\n",
    "# s/(len(grad_)-2)"
   ]
  },
  {
   "cell_type": "code",
   "execution_count": null,
   "metadata": {},
   "outputs": [],
   "source": [
    "crop_ = img[279:318,251:262]\n",
    "cv_imshow(crop_,'a')\n",
    "sobely = cv2.Sobel(crop_,cv2.CV_64F,0,1,ksize=3)\n",
    "sobely = cv2.convertScaleAbs(sobely)\n",
    "s=0\n",
    "m=0\n",
    "for i in sobely:\n",
    "    for j in i:\n",
    "        for k in j:\n",
    "            if k!=0:\n",
    "                m+=1\n",
    "                s+=k\n",
    "grad = s/m#\n",
    "cv_imshow(sobely,'a')\n",
    "sobely"
   ]
  },
  {
   "cell_type": "code",
   "execution_count": null,
   "metadata": {},
   "outputs": [],
   "source": [
    "spot_add = np.array(spot_add)\n",
    "points = spot_add\n",
    "points[:,[0,1]]=points[:,[1,0]]\n",
    "# vor  = Voronoi(points=points)\n",
    "tri = Delaunay(points)\n",
    "# voronoi_plot_2d(vor)\n",
    "plt.triplot(points[:,0], points[:,1], tri.simplices.copy())\n",
    "plt.plot(points[:,0],points[:,1],'o')\n",
    "plt.show()#Delaunay算法画边界"
   ]
  },
  {
   "cell_type": "code",
   "execution_count": null,
   "metadata": {},
   "outputs": [],
   "source": [
    "#退化，计算需要去掉的边\n",
    "edge = points[tri.simplices]#三角形点集合\n",
    "del_b = []#去边列表\n",
    "def grad_(m,n):#输入两个坐标，计算坐标之间梯度\n",
    "    crop_ = img[m[1]:n[1],m[0],n[0]]\n",
    "    sobely = cv2.Sobel(crop_img,cv2.CV_64F,0,1,ksize=3)\n",
    "    sobely = cv2.convertScaleAbs(sobely)\n",
    "    s=0\n",
    "    for i in sobely:\n",
    "        for j in i:\n",
    "            for k in j:\n",
    "                s+=k\n",
    "    grad = s/2#梯度转化为与阈值判断的标准数据格式\n",
    "    return grad\n",
    "def ggb_c(m,n):#公共边选取\n",
    "    ggb = []\n",
    "    for i in m:\n",
    "        for j in n:\n",
    "            p = 0\n",
    "            if(set(i)==set(j)):\n",
    "                ggb.append(list(i))#公共边\n",
    "    if(len(ggb)==2):\n",
    "        if(grad_(m,n)>):#计算梯度阈值\n",
    "            k =1 #需要加入置1\n",
    "        else:\n",
    "            k=0\n",
    "#     print(ggb)\n",
    "#     print(len(ggb))\n",
    "#     print('***')\n",
    "    ggb=[]#释放\n",
    "#     return k\n",
    "for i in range(len(edge)):\n",
    "    for j in range(len(edge)):\n",
    "        if(i!=j):\n",
    "#             compare_(edge[i],edge[j])\n",
    "            k = compare_(edge[i],edge[j])\n",
    "            if(k==1):\n",
    "                gd=[]\n",
    "                gd.append(edge[i],edge[j])\n",
    "                del_b.append(gd)#将该坐标对加入到去边列表中"
   ]
  },
  {
   "cell_type": "code",
   "execution_count": null,
   "metadata": {},
   "outputs": [],
   "source": [
    "#画图，有一个坐标数组，默认里面都相连，有一个去边数组，里面是不需要连接的坐标对，怎样可视化出来\n",
    "#使用白线覆盖掉\n",
    "spot_add = np.array(spot_add)\n",
    "points = spot_add\n",
    "points[:,[0,1]]=points[:,[1,0]]\n",
    "# vor  = Voronoi(points=points)\n",
    "tri = Delaunay(points)\n",
    "# voronoi_plot_2d(vor)\n",
    "plt.triplot(points[:,0], points[:,1], tri.simplices.copy())\n",
    "plt.plot(points[:,0],points[:,1],'o')\n",
    "for i in range(len(del_b)):\n",
    "    for j in range(0,2):\n",
    "        plt.plot(del_b[i][j][0],del_b[i][j][1],color = '#FFFFFF')"
   ]
  },
  {
   "cell_type": "code",
   "execution_count": null,
   "metadata": {},
   "outputs": [],
   "source": [
    "edge[3]"
   ]
  },
  {
   "cell_type": "code",
   "execution_count": null,
   "metadata": {},
   "outputs": [],
   "source": [
    "edge"
   ]
  },
  {
   "cell_type": "code",
   "execution_count": null,
   "metadata": {},
   "outputs": [],
   "source": [
    "crop_ = img[279:318,251:262]\n",
    "cv_imshow(crop_,'a')\n",
    "sobely = cv2.Sobel(crop_,cv2.CV_64F,0,1,ksize=3)\n",
    "sobely = cv2.convertScaleAbs(sobely)\n",
    "s=0\n",
    "m=0\n",
    "for i in sobely:\n",
    "    for j in i:\n",
    "        for k in j:\n",
    "            if k!=0:\n",
    "                m+=1\n",
    "                s+=k\n",
    "grad = s/m#\n",
    "cv_imshow(sobely,'a')\n",
    "sobely"
   ]
  },
  {
   "cell_type": "code",
   "execution_count": null,
   "metadata": {},
   "outputs": [],
   "source": [
    "grad"
   ]
  },
  {
   "cell_type": "code",
   "execution_count": null,
   "metadata": {},
   "outputs": [],
   "source": [
    "for i in sobely:\n",
    "    print(i)"
   ]
  },
  {
   "cell_type": "code",
   "execution_count": null,
   "metadata": {},
   "outputs": [],
   "source": [
    "a=[1,2]\n",
    "b=[3,4]\n",
    "c=[]\n",
    "c.append(a)\n",
    "c.append(b)\n",
    "d=[]\n",
    "d.append(c)\n",
    "e = [5,6]\n",
    "f = [6,7]\n",
    "m=[]\n",
    "m.append(e)\n",
    "m.append(f)\n",
    "d.append(m)"
   ]
  },
  {
   "cell_type": "code",
   "execution_count": null,
   "metadata": {},
   "outputs": [],
   "source": [
    "grad"
   ]
  },
  {
   "cell_type": "code",
   "execution_count": null,
   "metadata": {},
   "outputs": [],
   "source": [
    "plt.plot(spot_add[:,1],spot_add[:,0])\n",
    "plt.show()"
   ]
  },
  {
   "cell_type": "code",
   "execution_count": null,
   "metadata": {},
   "outputs": [],
   "source": []
  }
 ],
 "metadata": {
  "kernelspec": {
   "display_name": "Python 3",
   "language": "python",
   "name": "python3"
  },
  "language_info": {
   "codemirror_mode": {
    "name": "ipython",
    "version": 3
   },
   "file_extension": ".py",
   "mimetype": "text/x-python",
   "name": "python",
   "nbconvert_exporter": "python",
   "pygments_lexer": "ipython3",
   "version": "3.7.0"
  }
 },
 "nbformat": 4,
 "nbformat_minor": 2
}
